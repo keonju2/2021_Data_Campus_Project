{
 "cells": [
  {
   "cell_type": "markdown",
   "metadata": {},
   "source": [
    "# 버전에 맞는 chromedriver 설치\n",
    "\n",
    "https://sites.google.com/a/chromium.org/chromedriver/downloads"
   ]
  },
  {
   "cell_type": "code",
   "execution_count": null,
   "metadata": {},
   "outputs": [],
   "source": [
    "from bs4 import BeautifulSoup\n",
    "from selenium import webdriver\n",
    "import re\n",
    "import time\n",
    "import pandas as pd\n",
    "\n",
    "article_list = [] # 뉴스 제목 담을 리스트\n",
    "date_list = [] # 날짜 담을 리스트\n",
    "    \n",
    "driver = webdriver.Chrome('chromedriver')\n",
    "    \n",
    "for i in range(1, 2181, 10): # 한 페이지당 10개씩 존재, 마지막 페이지까지 # 마지막 페이지는 직접 확인하기 # 이데일리는 2181 대신 3341\n",
    "        \n",
    "    url = 'https://search.naver.com/search.naver?where=news&sm=tab_pge&query=%EC%82%BC%EC%84%B1%EC%A0%84%EC%9E%90&sort=0&photo=0&field=0&pd=3&ds=2021.01.01&de=2021.06.30&cluster_rank=11&mynews=1&office_type=2&office_section_code=5&news_office_checked=1009&nso=so:r,p:from20210101to20210630,a:all&start=' + str(i)\n",
    "    # 이데일리 url 주석\n",
    "    # 네이버에 삼성전자 검색후 뉴스, 기간설정, 언론사 선택 후 url 복사하면 된다.\n",
    "    # url = 'https://search.naver.com/search.naver?where=news&sm=tab_pge&query=%EC%82%BC%EC%84%B1%EC%A0%84%EC%9E%90&sort=0&photo=0&field=0&pd=3&ds=2021.01.01&de=2021.06.30&cluster_rank=12&mynews=1&office_type=1&office_section_code=3&news_office_checked=1018&nso=so:r,p:from20210101to20210630,a:all&start=' + str(i)\n",
    "    driver.get(url)\n",
    "    req = driver.page_source\n",
    "    soup = BeautifulSoup(req, 'html.parser')\n",
    "\n",
    "    time.sleep(1)\n",
    "        \n",
    "    articles = soup.select('#main_pack > section > div > div.group_news > ul > li') # 공통된 부분까지 articles 정의\n",
    "\n",
    "    # li 별로 다른 id가 있어서 그 부분 for문으로 크롤링하기\n",
    "    for article in articles:\n",
    "        # 기사 제목\n",
    "        a_tag = article.select_one('a[class=\"news_tit\"]')\n",
    "        title = a_tag.text\n",
    "        article_list.append(title) \n",
    "        \n",
    "        # 날짜\n",
    "        span_tag = article.select('span.info')\n",
    "        for s in span_tag:\n",
    "            date = s.text\n",
    "            if re.search(r'\\d+.\\d+.\\d+.', date) != None:\n",
    "                date_list.append(date)\n",
    "        \n",
    "           \n",
    "driver.quit()\n",
    "\n",
    "df = pd.DataFrame({'기사작성일':date_list,'기사제목':article_list}) # 리스트를 데이터 프레임으로 합쳐주기\n",
    "result_df = pd.concat([df], ignore_index=True)"
   ]
  },
  {
   "cell_type": "code",
   "execution_count": null,
   "metadata": {
    "scrolled": true
   },
   "outputs": [],
   "source": [
    "result_df.head(20)"
   ]
  },
  {
   "cell_type": "code",
   "execution_count": null,
   "metadata": {},
   "outputs": [],
   "source": [
    "result_df.to_csv('메일경제_2021상반기_.csv')"
   ]
  },
  {
   "cell_type": "code",
   "execution_count": null,
   "metadata": {},
   "outputs": [],
   "source": [
    "result_df.isna().sum()"
   ]
  },
  {
   "cell_type": "code",
   "execution_count": null,
   "metadata": {},
   "outputs": [],
   "source": []
  },
  {
   "cell_type": "code",
   "execution_count": null,
   "metadata": {},
   "outputs": [],
   "source": []
  }
 ],
 "metadata": {
  "kernelspec": {
   "display_name": "Python 3",
   "language": "python",
   "name": "python3"
  },
  "language_info": {
   "codemirror_mode": {
    "name": "ipython",
    "version": 3
   },
   "file_extension": ".py",
   "mimetype": "text/x-python",
   "name": "python",
   "nbconvert_exporter": "python",
   "pygments_lexer": "ipython3",
   "version": "3.8.5"
  }
 },
 "nbformat": 4,
 "nbformat_minor": 4
}
